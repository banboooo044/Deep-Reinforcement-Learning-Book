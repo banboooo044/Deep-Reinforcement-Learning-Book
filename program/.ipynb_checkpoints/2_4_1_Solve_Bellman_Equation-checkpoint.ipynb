{
 "cells": [
  {
   "cell_type": "markdown",
   "metadata": {},
   "source": [
    "# 方策評価 ~ ベルマン方程式を解く~\n",
    "## 1. 強化学習の流れとイメージ\n",
    "\n",
    "目標 : 最適な方策$\\pi$を求める.\n",
    "* step1 : 適当に方策$\\pi$を決める.\n",
    "* step2 : その方策でゲームをやってみる.$V^{\\pi}(s)$または$Q^{\\pi}(s, a)$を求めることでフィードバックを得る. \n",
    "* step3 : 求まった$V^{\\pi}(s)$または$Q^{\\pi}(s, a)$から方策$\\pi$を評価 & 改善する.\n",
    "* step4 : step1に戻る. $\\pi$が収束するまで繰り返す."
   ]
  },
  {
   "cell_type": "markdown",
   "metadata": {},
   "source": [
    "## 2. 状態価値関数 $V^{\\pi}(s)$\n",
    "\n",
    "### 2.1 状態価値関数の定義\n",
    "方策 $\\pi$ を1つ決めた時の状態 $s$ の価値を表す関数 $ V^{\\pi}(s) : S \\mapsto \\mathbb{R} $ を定義する.\n",
    "$$ \\begin{eqnarray}\n",
    "     V^{\\pi} (s) &=& \\mathbb{E}[ \\sum_{n=t}^{\\infty} \\gamma^{n-t} r_n  ; s_t = s ] \\\\\n",
    "     &=& \\mathbb{E}[ r_t + \\gamma r_{t+1} + \\gamma^2 r_{t+2} + \\cdots  ; s_t = s ] \\\\\n",
    "     &=& \\mathbb{E}[r_t] + \\gamma \\mathbb{E}[ \\sum_{n=t+1}^{\\infty} \\gamma^{n-(t+1)} r_n  ; s_t = s ] \\ ( \\text{期待値の線形性})\n",
    "\\end{eqnarray}$$\n",
    "\n",
    "状態 $s$ の状態価値とは : \n",
    "<center> 状態 $s$ から, 方策$\\pi$に従って行動した時, 将来得ることのできる収益の期待値(理論上の平均). </center>\n",
    "\n",
    "### 2.2 状態価値関数のベルマン方程式\n",
    "\n",
    "<img src=\"https://qiita-user-contents.imgix.net/https%3A%2F%2Fqiita-image-store.s3.amazonaws.com%2F0%2F233208%2F3be2fdc2-aa91-2af6-eb76-663f7f167188.jpeg?ixlib=rb-1.2.2&auto=compress%2Cformat&fit=max&s=92446f64725c6574d8101b6c52416907\" width = \"500\" >\n",
    "\n",
    "状態 $s_t$ から方策$\\pi$に従って, 行動$a_t$が決まる. $s_t, a_t$ から遷移確率$P$に従って次の状態$s_{t+1}$が決まる.\n",
    "\n",
    "期待値の定義通り, 全ての場合の確率と報酬の積を足し合わせることで, 以下の値を求める.\n",
    "1. $\\mathbb{E}[r_t]$ を求める. ( ただし,  $ s_t = s $ )\n",
    "$$\\mathbb{E}[r_t] = \\sum_{a \\in A} \\pi(s, a) \\sum_{s' \\in S} P(s, a, s') r( s, a, s' ) $$\n",
    "\n",
    "2. $\\mathbb{E}[ \\sum_{n=t+1}^{\\infty} \\gamma^{n-(t+1)} r_n  ; s_t = s ] $ を求める.  ( ただし,  $ s_t = s $ )\n",
    "$$ \\begin{eqnarray}\n",
    "\\mathbb{E}[ \\sum_{n=t+1}^{\\infty} \\gamma^{n-(t+1)} r_n  ; s_t = s ] \n",
    "&=& \\sum_{a \\in A} \\pi(s, a) \\sum_{s' \\in S} P(s, a, s') \\mathbb{E}[ \\sum_{n=t+1}^{\\infty} \\gamma^{n-(t+1)} r_n  ; s_{t+1} = s' ] \\\\\n",
    "&=& \\sum_{a \\in A} \\pi(s, a) \\sum_{s' \\in S} P(s, a, s') V^{\\pi}(s')\n",
    "\\end{eqnarray} $$\n",
    "\n",
    "よって以下の式が求まり, これをベルマン方程式と呼ぶ.\n",
    "$$ V^{\\pi} (s) = \\sum_{a \\in A} \\pi(s, a) \\sum_{s' \\in S} P(s, a, s') ( r( s, a, s' ) + \\gamma V^{\\pi}(s')) $$\n",
    "\n",
    "### 2.3 状態価値関数を求める. ( 遷移確率 $P$ は既知 )\n",
    "\n",
    "求める方法 : \n",
    "* $V^{\\pi}$に対応する再帰関数を作って近似的に求める.\n",
    "* べルマン方程式を連立して, 連立方程式として解く.\n",
    "* 反復アルゴリズムを用いて近似的に解く.\n",
    "\n",
    "理解を深めるために全部の方法で解いてみる.\n",
    "\n",
    "題材は, さっきと同じ迷路ゲーム.\n",
    "\n",
    "ちなみに, 迷路ゲームでは遷移確率$P$は考えなくて良いのでベルマン方程式が簡単に書けて, \n",
    "$$ V^{\\pi} (s) = \\sum_{a \\in A} \\pi(s, a) ( r( s, a, s' ) + \\gamma V^{\\pi}(s')) $$"
   ]
  },
  {
   "cell_type": "code",
   "execution_count": 1,
   "metadata": {
    "ExecuteTime": {
     "end_time": "2019-09-24T03:04:09.602293Z",
     "start_time": "2019-09-24T03:04:09.198042Z"
    },
    "collapsed": true
   },
   "outputs": [],
   "source": [
    "import numpy as np\n",
    "import matplotlib.pyplot as plt\n",
    "%matplotlib inline"
   ]
  },
  {
   "cell_type": "code",
   "execution_count": 2,
   "metadata": {
    "ExecuteTime": {
     "end_time": "2019-09-24T03:04:09.631508Z",
     "start_time": "2019-09-24T03:04:09.606818Z"
    },
    "collapsed": true
   },
   "outputs": [],
   "source": [
    "# 1. 再帰関数を用いた実装\n",
    "S = [ i for i in range(9) ]\n",
    "A = [\"up\", \"right\", \"down\", \"left\"]\n",
    "\n",
    "# 報酬関数\n",
    "def reward(s, a, s_next):\n",
    "    if s_next == 8:\n",
    "        return 10.0\n",
    "    # [変更!!] s5についたら罰報酬 -5.0\n",
    "    if s_next == 5:\n",
    "        return -5.0\n",
    "    else:\n",
    "        return 0.0\n",
    "\n",
    "#方策 pi を適当に決める.\n",
    "pi_0 = np.array(\n",
    "[[ 0.0 , 0.5 ,0.5 , 0.0],\n",
    "[  0.0 , 0.5, 0.0, 0.5 ],\n",
    "[ 0.0, 0.0 , 0.5 ,0.5],\n",
    "[ 1.0/3,  1.0/3, 1.0/3,  0.0 ],\n",
    "[ 0.0, 0.0,0.5, 0.5],\n",
    "[ 1.0, 0.0, 0.0, 0.0],\n",
    "[ 1.0, 0.0, 0.0, 0.0 ],\n",
    "[ 0.5, 0.5, 0.0, 0.0 ]])\n",
    "\n",
    "# 割引率\n",
    "gamma = 0.95\n",
    "\n",
    "def get_action_and_next_s(s, a):\n",
    "    if a == \"up\":\n",
    "        action = 0\n",
    "        s_next = s - 3  # 上に移動するときは状態の数字が3小さくなる\n",
    "    elif a == \"right\":\n",
    "        action = 1\n",
    "        s_next = s + 1  # 右に移動するときは状態の数字が1大きくなる\n",
    "    elif a == \"down\":\n",
    "        action = 2\n",
    "        s_next = s + 3  # 下に移動するときは状態の数字が3大きくなる\n",
    "    elif a == \"left\":\n",
    "        action = 3\n",
    "        s_next = s - 1  # 左に移動するときは状態の数字が1小さくなる\n",
    "\n",
    "    return (action, s_next)\n",
    "\n",
    "def V_pi(s, depth, pi):\n",
    "    # 再帰の深さを10でやめる. V^pi(s) = 0 とする.\n",
    "    if s == 8 or depth == 10:\n",
    "        return 0\n",
    "    value = 0.0\n",
    "    for a in A:\n",
    "        action, s_next = get_action_and_next_s(s, a)\n",
    "        value += (pi[s, action] * reward(s, action, s_next))\n",
    "        if pi[s, action] != 0.0:\n",
    "            value += (pi[s, action] * V_pi(s_next, depth+1, pi))\n",
    "    return value"
   ]
  },
  {
   "cell_type": "code",
   "execution_count": 3,
   "metadata": {
    "ExecuteTime": {
     "end_time": "2019-09-24T03:04:09.665323Z",
     "start_time": "2019-09-24T03:04:09.633188Z"
    }
   },
   "outputs": [
    {
     "name": "stdout",
     "output_type": "stream",
     "text": [
      "[-1.4756944444444444, -3.8614004629629628, -8.1901041666666661, 1.7645640432098764, 4.0907118055555554, -6.9878472222222214, 1.2413194444444442, 7.1780960648148149, 0]\n"
     ]
    }
   ],
   "source": [
    "# 状態価値関数を計算\n",
    "V_rec = []\n",
    "for s_0 in S:\n",
    "    V_rec.append(V_pi(s_0, 1, pi_0))\n",
    "print(V_rec)"
   ]
  },
  {
   "cell_type": "code",
   "execution_count": 4,
   "metadata": {
    "ExecuteTime": {
     "end_time": "2019-09-24T03:04:10.010755Z",
     "start_time": "2019-09-24T03:04:09.669628Z"
    }
   },
   "outputs": [
    {
     "data": {
      "image/png": "[encoded data removed]",
      "text/plain": [
       "<matplotlib.figure.Figure at 0x112c80be0>"
      ]
     },
     "metadata": {},
     "output_type": "display_data"
    }
   ],
   "source": [
    "# 状態価値関数を図示.\n",
    "def plot_V_pi(V_pi):\n",
    "    # 初期位置での迷路の様子\n",
    "    # 図を描く大きさと、図の変数名を宣言\n",
    "    fig = plt.figure(figsize=(5, 5))\n",
    "    ax = plt.gca()\n",
    "\n",
    "    # 赤い壁を描く\n",
    "    plt.plot([1, 1], [0, 1], color='red', linewidth=2)\n",
    "    plt.plot([1, 2], [2, 2], color='red', linewidth=2)\n",
    "    plt.plot([2, 2], [2, 1], color='red', linewidth=2)\n",
    "    plt.plot([2, 3], [1, 1], color='red', linewidth=2)\n",
    "\n",
    "    # 状態を示す文字S0～S8を描く\n",
    "    xy = []\n",
    "    i = 0\n",
    "    for y in [2.5, 1.5, 0.5]:\n",
    "        for x in [0.5, 1.5, 2.5]:\n",
    "            plt.text(x,y , \"S\"+str(i) , size=14, ha='center')\n",
    "            plt.text(x, y-0.2, str(round(V_pi[i], 3)), ha='center')\n",
    "            i += 1\n",
    "        \n",
    "    # 描画範囲の設定と目盛りを消す設定\n",
    "    ax.set_xlim(0, 3)\n",
    "    ax.set_ylim(0, 3)\n",
    "    plt.tick_params(axis='both', which='both', bottom='off', top='off',\n",
    "                labelbottom='off', right='off', left='off', labelleft='off')\n",
    "\n",
    "plot_V_pi(V_rec)"
   ]
  },
  {
   "cell_type": "code",
   "execution_count": 5,
   "metadata": {
    "ExecuteTime": {
     "end_time": "2019-09-24T03:04:10.021796Z",
     "start_time": "2019-09-24T03:04:10.012802Z"
    }
   },
   "outputs": [
    {
     "name": "stdout",
     "output_type": "stream",
     "text": [
      "-V(S0) + 0.5 * V(S1) + 0.5 * V(S3) = 0\n",
      "-V(S1) + 0.5 * V(S2) + 0.5 * V(S0) = 0\n",
      "-V(S2) + 0.5 * -5.0 + 0.5 * V(S5) + 0.5 * V(S1) = 0\n",
      "-V(S3) + 0.33 * V(S0) + 0.33 * V(S4) + 0.33 * V(S6) = 0\n",
      "-V(S4) + 0.5 * V(S7) + 0.5 * V(S3) = 0\n",
      "-V(S5) + 1.0 * V(S2) = 0\n",
      "-V(S6) + 1.0 * V(S3) = 0\n",
      "-V(S7) + 0.5 * V(S4) + 0.5 * 10.0 + 0.5 * V(S8) = 0\n",
      "-V(S8) = 0\n"
     ]
    }
   ],
   "source": [
    "# 連立方程式の表示\n",
    "def simulataneous_equation_show(pi):\n",
    "    for s in S:\n",
    "        eq = \"-V(S{0})\".format(s)\n",
    "        if s == 8:\n",
    "            print(eq + \" = 0\")\n",
    "            break\n",
    "        for a in A:\n",
    "            action, s_next = get_action_and_next_s(s, a)\n",
    "            if pi[s, action] != 0:\n",
    "                r = reward(s, action, s_next)\n",
    "                if r != 0:\n",
    "                    eq += \" + {0} * {1} + {0} * V({2})\".format(round(pi[s, action],2), r, \"S\"+str(s_next))\n",
    "                else:\n",
    "                    eq += \" + {0} * V({1})\".format(round(pi[s, action],2), \"S\"+str(s_next))\n",
    "        print(eq + \" = 0\")\n",
    "simulataneous_equation_show(pi_0)"
   ]
  },
  {
   "cell_type": "code",
   "execution_count": 6,
   "metadata": {
    "ExecuteTime": {
     "end_time": "2019-09-24T03:04:10.029593Z",
     "start_time": "2019-09-24T03:04:10.024042Z"
    },
    "collapsed": true
   },
   "outputs": [],
   "source": [
    "# 連立方程式を用いて解く.\n",
    "def simulataneous_equation(pi):\n",
    "    L = np.zeros((9, 9))\n",
    "    b = np.zeros(9)\n",
    "    for i, s in enumerate(S):\n",
    "        L[i, s] = 1.0\n",
    "        if s == 8:\n",
    "            break\n",
    "        for a in A:\n",
    "            action, s_next = get_action_and_next_s(s, a)\n",
    "            if pi[s, action] != 0:\n",
    "                r = reward(s, action, s_next)\n",
    "                if r != 0:\n",
    "                    L[i, s_next] = -pi[s, action]\n",
    "                    b[i] = pi[s, action] * r\n",
    "                else:\n",
    "                    L[i, s_next] = -pi[s, action]\n",
    "    return np.linalg.solve(L, b)\n",
    "\n",
    "def is_converge(M):\n",
    "    n, m = M.shape\n",
    "    M_sum = np.sum(np.abs(M), axis=1)\n",
    "    for i in range(n):\n",
    "        if 2 * abs(M[i, i]) <= M_sum:\n",
    "            return False\n",
    "    return True"
   ]
  },
  {
   "cell_type": "code",
   "execution_count": 7,
   "metadata": {
    "ExecuteTime": {
     "end_time": "2019-09-24T03:04:10.207737Z",
     "start_time": "2019-09-24T03:04:10.031424Z"
    }
   },
   "outputs": [
    {
     "data": {
      "image/png": "[encoded data removed]",
      "text/plain": [
       "<matplotlib.figure.Figure at 0x11e8c5fd0>"
      ]
     },
     "metadata": {},
     "output_type": "display_data"
    }
   ],
   "source": [
    "# 厳密解法. \n",
    "plot_V_pi(simulataneous_equation(pi_0))"
   ]
  },
  {
   "cell_type": "markdown",
   "metadata": {},
   "source": [
    "#### 2.3.3 反復解法\n",
    "最初に適当に$V^{\\pi}_{0}(s)$を初期化し, 状態価値関数の更新を行う.\n",
    "\n",
    "更新式は, 以下の通りである. \n",
    "$$ V^{\\pi}_{k+1}(s) \\leftarrow \\sum_{a \\in A} \\pi(s, a) \\sum_{s' \\in S} P(s, a, s') ( r( s, a, s' ) + \\gamma V^{\\pi}_{k} (s')) $$\n",
    "\n",
    "この更新式によって, 真の$V^{\\pi}$に収束することが数学的に保証されている. "
   ]
  },
  {
   "cell_type": "code",
   "execution_count": 8,
   "metadata": {
    "ExecuteTime": {
     "end_time": "2019-09-24T03:04:10.390503Z",
     "start_time": "2019-09-24T03:04:10.209666Z"
    }
   },
   "outputs": [
    {
     "data": {
      "image/png": "[encoded data removed]",
      "text/plain": [
       "<matplotlib.figure.Figure at 0x11e94e390>"
      ]
     },
     "metadata": {},
     "output_type": "display_data"
    }
   ],
   "source": [
    "def iteration_solve(pi):\n",
    "    V = np.random.rand(len(S))\n",
    "    stop_epsilon = 10**-4\n",
    "    while True:\n",
    "        V_new = np.zeros_like(V)\n",
    "        for s in S:\n",
    "            if s == 8:\n",
    "                continue\n",
    "            for a in A:\n",
    "                action, s_next = get_action_and_next_s(s, a)\n",
    "                if pi[s, action] != 0:\n",
    "                    V_new[s] += pi[s, action] * (reward(s, action, s_next) + gamma*V[s_next])\n",
    "        if np.sum(np.abs(V_new - V)) < stop_epsilon:\n",
    "            break\n",
    "        else:\n",
    "            V = V_new\n",
    "    return V\n",
    "\n",
    "plot_V_pi(iteration_solve(pi_0))"
   ]
  },
  {
   "cell_type": "markdown",
   "metadata": {},
   "source": [
    "## 2.4 方策評価\n",
    "方策の良さをどうやって定量的に評価するか ? \n",
    "\n",
    "方策の順序関係を状態価値関数を用いて定義する.\n",
    "\n",
    "$$ \\pi_1 \\text{より} \\pi_2 \\text{が良い} \\Leftrightarrow V^{\\pi_1}(s) \\leq V^{\\pi_2}(s) \\ (\\forall s \\in S) $$\n"
   ]
  },
  {
   "cell_type": "code",
   "execution_count": 9,
   "metadata": {
    "ExecuteTime": {
     "end_time": "2019-09-24T03:04:10.741642Z",
     "start_time": "2019-09-24T03:04:10.392222Z"
    }
   },
   "outputs": [
    {
     "data": {
      "image/png": "[encoded data removed]",
      "text/plain": [
       "<matplotlib.figure.Figure at 0x11ea11438>"
      ]
     },
     "metadata": {},
     "output_type": "display_data"
    },
    {
     "data": {
      "image/png": "[encoded data removed]",
      "text/plain": [
       "<matplotlib.figure.Figure at 0x11ea11630>"
      ]
     },
     "metadata": {},
     "output_type": "display_data"
    }
   ],
   "source": [
    "# 必ず4手でゴールにたどり着ける方策 pi_star を使って状態価値を求める.\n",
    "pi_star = np.array(\n",
    "[[ 0.0 , 0.0 ,1.0 , 0.0],\n",
    "[  0.0 , 0.5, 0.0, 0.5 ],\n",
    "[ 0.0, 0.0 , 0.5 ,0.5],\n",
    "[ 0.0,  1.0, 0.0,  0.0 ],\n",
    "[ 0.0, 0.0,1.0, 0.0],\n",
    "[ 1.0, 0.0, 0.0, 0.0],\n",
    "[ 1.0, 0.0, 0.0, 0.0 ],\n",
    "[ 0.0, 1.0, 0.0, 0.0 ]])\n",
    "\n",
    "# pi_0 と pi_star を比較する. 明らかに pi_star の方が pi_0 より良い方策であることがわかる.\n",
    "plot_V_pi(simulataneous_equation(pi_0))\n",
    "plot_V_pi(simulataneous_equation(pi_star))"
   ]
  },
  {
   "cell_type": "markdown",
   "metadata": {},
   "source": [
    "## 3. 最適ベルマン方程式\n",
    "最適な方策$ \\pi^* $は決定論的な関数となる.\n",
    "$$ \\pi^* (s_i, a) = \\begin{cases} 1.0 \\ ( a \\text{が最適な行動} ) \\\\ 0.0 \\ (\\text{otherwise}) \\end{cases}$$\n",
    "この時, ベルマン方程式は簡単に書き換えられて, \n",
    "$$ V^{\\pi^*} (s) = \\max_{a \\in A} \\sum_{s' \\in S} P(s, a, s') ( r( s, a, s' ) + \\gamma V^{\\pi^*}(s')) $$\n",
    "\n",
    "### ベルマンの最適性原理 \n",
    "\n",
    "「最適な方策は、初期状態と初期決定がどんなものであれ、その結果得られる次の状態に関して、以降の決定が必ず最適方策になっているという性質をもつ. (参照：　Bellman, 1957、Chap. III.3.)」\n",
    "\n",
    "最適な方策$\\pi^*$をとっている時, 全体で最適なエピソード列は, 部分エピソード列でも最適となっている.\n",
    "\n",
    "<img src=\"https://github.com/banboooo044/Deep-Reinforcement-Learning-Book/blob/master/pic/optimal_episode.png?raw=true\" width=500>\n",
    "\n",
    "これは動的計画法の基本原理でもある.\n",
    "\n",
    "(例.)\n",
    "* ダイクストラ法 : 最短な2頂点間のパスにおいて, その部分パスも最短な2頂点間のパスとなっている.\n",
    "* ナップザック問題 : 重さ $w$ 以下で価値最大となる詰め方において, まだナップザックの重さが $w' < w$ であるような途中までの詰め方を見ても重さ $w'$ 以下で価値最大となる最適な詰め方となっている.\n"
   ]
  }
 ],
 "metadata": {
  "kernelspec": {
   "display_name": "Python 3",
   "language": "python",
   "name": "python3"
  },
  "language_info": {
   "codemirror_mode": {
    "name": "ipython",
    "version": 3
   },
   "file_extension": ".py",
   "mimetype": "text/x-python",
   "name": "python",
   "nbconvert_exporter": "python",
   "pygments_lexer": "ipython3",
   "version": "3.6.8"
  },
  "varInspector": {
   "cols": {
    "lenName": 16,
    "lenType": 16,
    "lenVar": 40
   },
   "kernels_config": {
    "python": {
     "delete_cmd_postfix": "",
     "delete_cmd_prefix": "del ",
     "library": "var_list.py",
     "varRefreshCmd": "print(var_dic_list())"
    },
    "r": {
     "delete_cmd_postfix": ") ",
     "delete_cmd_prefix": "rm(",
     "library": "var_list.r",
     "varRefreshCmd": "cat(var_dic_list()) "
    }
   },
   "types_to_exclude": [
    "module",
    "function",
    "builtin_function_or_method",
    "instance",
    "_Feature"
   ],
   "window_display": false
  }
 },
 "nbformat": 4,
 "nbformat_minor": 2
}
