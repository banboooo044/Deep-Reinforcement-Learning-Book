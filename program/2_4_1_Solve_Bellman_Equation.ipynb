{
 "cells": [
  {
   "cell_type": "markdown",
   "metadata": {},
   "source": [
    "# 方策評価 ~ ベルマン方程式を解く~\n",
    "## 1. 強化学習の流れとイメージ\n",
    "\n",
    "目標 : 最適な方策$\\pi$を求める.\n",
    "* step1 : 適当に方策$\\pi$を決める.\n",
    "* step2 : その方策でゲームをやってみる.$V^{\\pi}(s)$または$Q^{\\pi}(s, a)$を求めることでフィードバックを得る. \n",
    "* step3 : 求まった$V^{\\pi}(s)$または$Q^{\\pi}(s, a)$から方策$\\pi$を評価 & 改善する.\n",
    "* step4 : step1に戻る. $\\pi$が収束するまで繰り返す."
   ]
  },
  {
   "cell_type": "markdown",
   "metadata": {},
   "source": [
    "## 2. 状態価値関数 $V^{\\pi}(s)$\n",
    "\n",
    "### 2.1 状態価値関数の定義\n",
    "方策 $\\pi$ を1つ決めた時の状態 $s$ の価値を表す関数 $ V^{\\pi}(s) : S \\mapsto \\mathbb{R} $ を定義する.\n",
    "$$ \\begin{eqnarray}\n",
    "     V^{\\pi} (s) &=& \\mathbb{E}[ \\sum_{n=t}^{\\infty} \\gamma^{n-t} r_n  ; s_t = s ] \\\\\n",
    "     &=& \\mathbb{E}[ r_t + \\gamma r_{t+1} + \\gamma^2 r_{t+2} + \\cdots  ; s_t = s ] \\\\\n",
    "     &=& \\mathbb{E}[r_t] + \\gamma \\mathbb{E}[ \\sum_{n=t+1}^{\\infty} \\gamma^{n-(t+1)} r_n  ; s_t = s ] \\ ( \\text{期待値の線形性})\n",
    "\\end{eqnarray}$$\n",
    "\n",
    "状態 $s$ の状態価値とは : \n",
    "<center> 状態 $s$ から, 方策$\\pi$に従って行動した時, 将来得ることのできる収益の期待値(理論上の平均). </center>\n",
    "\n",
    "### 2.2 状態価値関数のベルマン方程式\n",
    "\n",
    "<img src=\"https://qiita-user-contents.imgix.net/https%3A%2F%2Fqiita-image-store.s3.amazonaws.com%2F0%2F233208%2F3be2fdc2-aa91-2af6-eb76-663f7f167188.jpeg?ixlib=rb-1.2.2&auto=compress%2Cformat&fit=max&s=92446f64725c6574d8101b6c52416907\" width = \"500\" >\n",
    "\n",
    "状態 $s_t$ から方策$\\pi$に従って, 行動$a_t$が決まる. $s_t, a_t$ から遷移確率$P$に従って次の状態$s_{t+1}$が決まる.\n",
    "\n",
    "期待値の定義通り, 全ての場合の確率と報酬の積を足し合わせることで, 以下の値を求める.\n",
    "1. $\\mathbb{E}[r_t]$ を求める. ( ただし,  $ s_t = s $ )\n",
    "$$\\mathbb{E}[r_t] = \\sum_{a \\in A} \\pi(s, a) \\sum_{s' \\in S} P(s, a, s') r( s, a, s' ) $$\n",
    "\n",
    "2. $\\mathbb{E}[ \\sum_{n=t+1}^{\\infty} \\gamma^{n-(t+1)} r_n  ; s_t = s ] $ を求める.  ( ただし,  $ s_t = s $ )\n",
    "$$ \\begin{eqnarray}\n",
    "\\mathbb{E}[ \\sum_{n=t+1}^{\\infty} \\gamma^{n-(t+1)} r_n  ; s_t = s ] \n",
    "&=& \\sum_{a \\in A} \\pi(s, a) \\sum_{s' \\in S} P(s, a, s') \\mathbb{E}[ \\sum_{n=t+1}^{\\infty} \\gamma^{n-(t+1)} r_n  ; s_{t+1} = s' ] \\\\\n",
    "&=& \\sum_{a \\in A} \\pi(s, a) \\sum_{s' \\in S} P(s, a, s') V^{\\pi}(s')\n",
    "\\end{eqnarray} $$\n",
    "\n",
    "よって以下の式が求まり, これをベルマン方程式と呼ぶ.\n",
    "$$ V^{\\pi} (s) = \\sum_{a \\in A} \\pi(s, a) \\sum_{s' \\in S} P(s, a, s') ( r( s, a, s' ) + \\gamma V^{\\pi}(s')) $$\n",
    "\n",
    "### 2.3 状態価値関数を求める. ( 遷移確率 $P$ は既知 )\n",
    "\n",
    "求める方法 : \n",
    "* $V^{\\pi}$に対応する再帰関数を作って近似的に求める.\n",
    "* べルマン方程式を連立して, 連立1次方程式を厳密に解く.\n",
    "* 反復法を用いて連立1次方程式を近似的に解く. \n",
    "\n",
    "理解を深めるために全部の方法で解いてみる.\n",
    "\n",
    "題材は, さっきと同じ迷路ゲーム.\n",
    "\n",
    "ちなみに, 迷路ゲームでは遷移確率$P$は考えなくて良いのでベルマン方程式が簡単に書けて, \n",
    "$$ V^{\\pi} (s) = \\sum_{a \\in A} \\pi(s, a) ( r( s, a, s' ) + \\gamma V^{\\pi}(s')) $$"
   ]
  },
  {
   "cell_type": "code",
   "execution_count": 44,
   "metadata": {
    "ExecuteTime": {
     "end_time": "2019-09-24T09:43:00.223401Z",
     "start_time": "2019-09-24T09:43:00.207693Z"
    },
    "collapsed": true
   },
   "outputs": [],
   "source": [
    "import numpy as np\n",
    "import matplotlib.pyplot as plt\n",
    "%matplotlib inline"
   ]
  },
  {
   "cell_type": "code",
   "execution_count": 45,
   "metadata": {
    "ExecuteTime": {
     "end_time": "2019-09-24T09:43:00.365271Z",
     "start_time": "2019-09-24T09:43:00.230078Z"
    }
   },
   "outputs": [],
   "source": [
    "# 1. 再帰関数を用いた実装\n",
    "S = [i for i in range(9)]\n",
    "A = [\"up\", \"right\", \"down\", \"left\"]\n",
    "\n",
    "# 報酬関数\n",
    "def reward(s, a, s_next):\n",
    "    if s_next == 8:\n",
    "        return 10.0\n",
    "    # [変更!!] s5についたら罰報酬 -5.0\n",
    "    if s_next == 5:\n",
    "        return -5.0\n",
    "    else:\n",
    "        return 0.0\n",
    "\n",
    "\n",
    "# 方策 pi を適当に決める.\n",
    "pi_0 = np.array(\n",
    "    [[0.0, 0.5, 0.5, 0.0],\n",
    "     [0.0, 0.5, 0.0, 0.5],\n",
    "        [0.0, 0.0, 0.5, 0.5],\n",
    "        [1.0/3,  1.0/3, 1.0/3,  0.0],\n",
    "        [0.0, 0.0, 0.5, 0.5],\n",
    "        [1.0, 0.0, 0.0, 0.0],\n",
    "        [1.0, 0.0, 0.0, 0.0],\n",
    "        [0.5, 0.5, 0.0, 0.0]])\n",
    "\n",
    "# 割引率\n",
    "gamma = 0.95\n",
    "\n",
    "# 行動番号を返す.\n",
    "\n",
    "\n",
    "def action_idx(a):\n",
    "    if a == \"up\":\n",
    "        action = 0\n",
    "    elif a == \"right\":\n",
    "        action = 1\n",
    "    elif a == \"down\":\n",
    "        action = 2\n",
    "    elif a == \"left\":\n",
    "        action = 3\n",
    "    return action\n",
    "\n",
    "# 次の場所を返す.\n",
    "\n",
    "\n",
    "def next_s(s, a):\n",
    "    if a == \"up\":\n",
    "        s_next = s - 3  # 上に移動するときは状態の数字が3小さくなる\n",
    "    elif a == \"right\":\n",
    "        s_next = s + 1  # 右に移動するときは状態の数字が1大きくなる\n",
    "    elif a == \"down\":\n",
    "        s_next = s + 3  # 下に移動するときは状態の数字が3大きくなる\n",
    "    elif a == \"left\":\n",
    "        s_next = s - 1  # 左に移動するときは状態の数字が1小さくなる\n",
    "    return s_next\n",
    "\n",
    "# 状態sで行動aを選択可能か(True / False)\n",
    "\n",
    "\n",
    "def valid_action(s, a):\n",
    "    if s == 0:\n",
    "        return ((a == \"right\") or (a == \"down\"))\n",
    "    elif s == 1:\n",
    "        return (a == \"right\" or a == \"left\")\n",
    "    elif s == 2:\n",
    "        return (a == \"left\" or a == \"down\")\n",
    "    elif s == 3:\n",
    "        return (a != \"left\")\n",
    "    elif s == 4:\n",
    "        return (a == \"left\" or a == \"down\")\n",
    "    elif s == 5:\n",
    "        return (a == \"up\")\n",
    "    elif s == 6:\n",
    "        return (a == \"up\")\n",
    "    elif s == 7:\n",
    "        return (a == \"up\" or a == \"right\")\n",
    "    elif s == 8:\n",
    "        return False\n",
    "\n",
    "def V_pi(s, depth, pi):\n",
    "    # 再帰の深さを10でやめる. V^pi(s) = 0 とする.\n",
    "    if s == 8 or depth == 10:\n",
    "        return 0\n",
    "    value = 0.0\n",
    "    for a in A:\n",
    "        if valid_action(s, a):\n",
    "            action, s_next = action_idx(a), next_s(s, a)\n",
    "            value += (pi[s, action] * ( reward(s, action, s_next) + gamma * V_pi(s_next, depth+1, pi)))\n",
    "    return value"
   ]
  },
  {
   "cell_type": "code",
   "execution_count": 46,
   "metadata": {
    "ExecuteTime": {
     "end_time": "2019-09-24T09:43:00.426406Z",
     "start_time": "2019-09-24T09:43:00.367742Z"
    }
   },
   "outputs": [
    {
     "name": "stdout",
     "output_type": "stream",
     "text": [
      "[-1.1414749661928529, -3.2728999638474634, -7.0378651094694344, 1.4367223394957174, 3.6898103683695753, -5.9282501244225383, 1.0351116230074278, 6.8363193337461396, 0]\n"
     ]
    }
   ],
   "source": [
    "# 状態価値関数を計算\n",
    "V_rec = []\n",
    "for s_0 in S:\n",
    "    V_rec.append(V_pi(s_0, 1, pi_0))\n",
    "print(V_rec)"
   ]
  },
  {
   "cell_type": "code",
   "execution_count": 47,
   "metadata": {
    "ExecuteTime": {
     "end_time": "2019-09-24T09:43:00.955877Z",
     "start_time": "2019-09-24T09:43:00.429464Z"
    }
   },
   "outputs": [
    {
     "data": {
      "image/png": "[encoded data removed]",
      "text/plain": [
       "<matplotlib.figure.Figure at 0x11eb04470>"
      ]
     },
     "metadata": {},
     "output_type": "display_data"
    }
   ],
   "source": [
    "# 状態価値関数を図示.\n",
    "def plot_V_pi(V_pi):\n",
    "    # 初期位置での迷路の様子\n",
    "    # 図を描く大きさと、図の変数名を宣言\n",
    "    fig = plt.figure(figsize=(5, 5))\n",
    "    ax = plt.gca()\n",
    "\n",
    "    # 赤い壁を描く\n",
    "    plt.plot([1, 1], [0, 1], color='red', linewidth=2)\n",
    "    plt.plot([1, 2], [2, 2], color='red', linewidth=2)\n",
    "    plt.plot([2, 2], [2, 1], color='red', linewidth=2)\n",
    "    plt.plot([2, 3], [1, 1], color='red', linewidth=2)\n",
    "\n",
    "    # 状態を示す文字S0～S8を描く\n",
    "    xy = []\n",
    "    i = 0\n",
    "    for y in [2.5, 1.5, 0.5]:\n",
    "        for x in [0.5, 1.5, 2.5]:\n",
    "            plt.text(x,y , \"S\"+str(i) , size=14, ha='center')\n",
    "            plt.text(x, y-0.2, str(round(V_pi[i], 3)), ha='center')\n",
    "            i += 1\n",
    "        \n",
    "    # 描画範囲の設定と目盛りを消す設定\n",
    "    ax.set_xlim(0, 3)\n",
    "    ax.set_ylim(0, 3)\n",
    "    plt.tick_params(axis='both', which='both', bottom='off', top='off',\n",
    "                labelbottom='off', right='off', left='off', labelleft='off')\n",
    "\n",
    "plot_V_pi(V_rec)"
   ]
  },
  {
   "cell_type": "code",
   "execution_count": 48,
   "metadata": {
    "ExecuteTime": {
     "end_time": "2019-09-24T09:43:00.997344Z",
     "start_time": "2019-09-24T09:43:00.967101Z"
    }
   },
   "outputs": [
    {
     "name": "stdout",
     "output_type": "stream",
     "text": [
      "-V(S0) + 0.5 * 0.95 * V(S1) + 0.5 * 0.95 * V(S3) = 0\n",
      "-V(S1) + 0.5 * 0.95 * V(S2) + 0.5 * 0.95 * V(S0) = 0\n",
      "-V(S2) + 0.5 * -5.0 + 0.5 * 0.95 * V(S5) + 0.5 * 0.95 * V(S1) = 0\n",
      "-V(S3) + 0.33 * 0.95 * V(S0) + 0.33 * 0.95 * V(S4) + 0.33 * 0.95 * V(S6) = 0\n",
      "-V(S4) + 0.5 * 0.95 * V(S7) + 0.5 * 0.95 * V(S3) = 0\n",
      "-V(S5) + 1.0 * 0.95 * V(S2) = 0\n",
      "-V(S6) + 1.0 * 0.95 * V(S3) = 0\n",
      "-V(S7) + 0.5 * 0.95 * V(S4) + 0.5 * 10.0 + 0.5 * 0.95 * V(S8) = 0\n",
      "-V(S8) = 0\n"
     ]
    }
   ],
   "source": [
    "# 連立方程式の表示\n",
    "def simulataneous_equation_show(pi):\n",
    "    for s in S:\n",
    "        eq = \"-V(S{0})\".format(s)\n",
    "        for a in A:\n",
    "            if valid_action(s, a):\n",
    "                action, s_next = action_idx(a), next_s(s, a)\n",
    "                r = reward(s, action, s_next)\n",
    "                if r != 0:\n",
    "                    eq += \" + {0} * {1} + {0} * {3} * V({2})\".format(round(pi[s, action],2), r, \"S\"+str(s_next), gamma)\n",
    "                else:\n",
    "                    eq += \" + {0} * {2} * V({1})\".format(round(pi[s, action],2), \"S\"+str(s_next), gamma)\n",
    "        print(eq + \" = 0\")\n",
    "simulataneous_equation_show(pi_0)"
   ]
  },
  {
   "cell_type": "code",
   "execution_count": 49,
   "metadata": {
    "ExecuteTime": {
     "end_time": "2019-09-24T09:43:01.021622Z",
     "start_time": "2019-09-24T09:43:01.005623Z"
    },
    "collapsed": true
   },
   "outputs": [],
   "source": [
    "# 連立1次方程式を直接法で解く.\n",
    "def simulataneous_equation(pi):\n",
    "    L = np.zeros((9, 9))\n",
    "    b = np.zeros(9)\n",
    "    for i, s in enumerate(S):\n",
    "        L[i, s] = 1.0\n",
    "        for a in A:\n",
    "            if valid_action(s, a):\n",
    "                action, s_next = action_idx(a), next_s(s, a)\n",
    "                r = reward(s, action, s_next)\n",
    "                if r != 0:\n",
    "                    L[i, s_next] = - gamma * pi[s, action]\n",
    "                    b[i] = pi[s, action] * r\n",
    "                else:\n",
    "                    L[i, s_next] = - gamma* pi[s, action]\n",
    "    return np.linalg.inv(L) @ b"
   ]
  },
  {
   "cell_type": "code",
   "execution_count": 50,
   "metadata": {
    "ExecuteTime": {
     "end_time": "2019-09-24T09:43:01.584617Z",
     "start_time": "2019-09-24T09:43:01.030396Z"
    }
   },
   "outputs": [
    {
     "data": {
      "image/png": "[encoded data removed]",
      "text/plain": [
       "<matplotlib.figure.Figure at 0x11efaaa20>"
      ]
     },
     "metadata": {},
     "output_type": "display_data"
    }
   ],
   "source": [
    "# 厳密解法. \n",
    "plot_V_pi(simulataneous_equation(pi_0))"
   ]
  },
  {
   "cell_type": "markdown",
   "metadata": {},
   "source": [
    "#### 2.3.3 反復解法\n",
    "一般的に連立一次方程式 $A \\boldsymbol{x} = \\boldsymbol{b}$ の解法には, 直接法と反復法がある. ( 数値計算の分野 ) <br>\n",
    "参考 : [線形方程式の解法:反復法](http://nkl.cc.u-tokyo.ac.jp/13n/SolverIterative.pdf)\n",
    "\n",
    "> 反復法とは, 適当な初期解 $\\boldsymbol{x_0}$ から始めて繰り返し計算によって $\\boldsymbol{x_1},\\ \\boldsymbol{x_2}, \\dots $ と求めて, 真の解に収束させる解法\n",
    "\n",
    "反復法の1つである<font color=\"red\"> ヤコビ法 </font> を用いる方法がベルマン方程式を解く時には有名のよう(?).\n",
    "\n",
    "一般に, 反復法を用いる時はちゃんと収束するのか条件を確かめる必要がある.\n",
    "\n",
    "ヤコビ法が収束する十分条件\n",
    "\n",
    "$$ \\text{係数行列} A \\text{が対角優位性をもつ} \\underset{def}{\\Leftrightarrow}  | a_{i,i} | > \\sum_{ j = 1,\\ j \\neq i}^n | a_{i,j} | $$\n",
    "をベルマン方程式は常に満たす. <br>\n",
    "( 対角成分は1, 各行の非対角成分は確率 $\\pi$ と割引率 $\\gamma$ の積だから和は1より小さくなる. ) \n",
    "\n",
    "- - -\n",
    "\n",
    "最初に適当に$V^{\\pi}_{0}(s)$を初期化する.\n",
    "\n",
    "$$ V^{\\pi}_{k+1}(s) \\leftarrow \\sum_{a \\in A} \\pi(s, a) \\sum_{s' \\in S} P(s, a, s') ( r( s, a, s' ) + \\gamma V^{\\pi}_{k} (s')) $$\n",
    "\n",
    "この更新式に従って, 更新を繰り返せば真の$V^{\\pi}$に収束する."
   ]
  },
  {
   "cell_type": "code",
   "execution_count": 51,
   "metadata": {
    "ExecuteTime": {
     "end_time": "2019-09-24T09:43:02.286679Z",
     "start_time": "2019-09-24T09:43:01.628551Z"
    }
   },
   "outputs": [
    {
     "data": {
      "image/png": "[encoded data removed]",
      "text/plain": [
       "<matplotlib.figure.Figure at 0x11ec73eb8>"
      ]
     },
     "metadata": {},
     "output_type": "display_data"
    }
   ],
   "source": [
    "def iteration_solve(pi):\n",
    "    V = np.random.rand(len(S))\n",
    "    stop_epsilon = 10**-4\n",
    "    while True:\n",
    "        V_new = np.zeros_like(V)\n",
    "        for s in S:\n",
    "            for a in A:\n",
    "                if valid_action(s, a):\n",
    "                    action, s_next = action_idx(a), next_s(s, a)\n",
    "                    V_new[s] += pi[s, action] * (reward(s, action, s_next) + gamma*V[s_next])\n",
    "        if np.sum(np.abs(V_new - V)) < stop_epsilon:\n",
    "            break\n",
    "        else:\n",
    "            V = V_new\n",
    "    return V\n",
    "\n",
    "plot_V_pi(iteration_solve(pi_0))"
   ]
  }
 ],
 "metadata": {
  "kernelspec": {
   "display_name": "Python 3",
   "language": "python",
   "name": "python3"
  },
  "language_info": {
   "codemirror_mode": {
    "name": "ipython",
    "version": 3
   },
   "file_extension": ".py",
   "mimetype": "text/x-python",
   "name": "python",
   "nbconvert_exporter": "python",
   "pygments_lexer": "ipython3",
   "version": "3.7.4"
  },
  "varInspector": {
   "cols": {
    "lenName": 16,
    "lenType": 16,
    "lenVar": 40
   },
   "kernels_config": {
    "python": {
     "delete_cmd_postfix": "",
     "delete_cmd_prefix": "del ",
     "library": "var_list.py",
     "varRefreshCmd": "print(var_dic_list())"
    },
    "r": {
     "delete_cmd_postfix": ") ",
     "delete_cmd_prefix": "rm(",
     "library": "var_list.r",
     "varRefreshCmd": "cat(var_dic_list()) "
    }
   },
   "types_to_exclude": [
    "module",
    "function",
    "builtin_function_or_method",
    "instance",
    "_Feature"
   ],
   "window_display": false
  }
 },
 "nbformat": 4,
 "nbformat_minor": 2
}
