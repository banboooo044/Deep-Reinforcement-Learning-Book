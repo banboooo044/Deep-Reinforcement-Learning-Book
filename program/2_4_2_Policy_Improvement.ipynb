{
 "cells": [
  {
   "cell_type": "markdown",
   "metadata": {},
   "source": [
    "# 方策改善\n",
    "\n",
    "## 1. 方策評価\n",
    "方策の良さをどうやって定量的に評価するか ? \n",
    "\n",
    "方策の順序関係を状態価値関数を用いて定義する.\n",
    "\n",
    "$$ \\pi_1 \\text{より} \\pi_2 \\text{が良い} \\underset{def}{\\Leftrightarrow} V^{\\pi_1}(s) \\leq V^{\\pi_2}(s) \\ (\\forall s \\in S) $$"
   ]
  },
  {
   "cell_type": "code",
   "execution_count": 50,
   "metadata": {
    "ExecuteTime": {
     "end_time": "2019-09-24T09:36:56.680305Z",
     "start_time": "2019-09-24T09:36:56.675514Z"
    },
    "collapsed": true
   },
   "outputs": [],
   "source": [
    "import numpy as np\n",
    "import matplotlib.pyplot as plt\n",
    "%matplotlib inline"
   ]
  },
  {
   "cell_type": "code",
   "execution_count": 51,
   "metadata": {
    "ExecuteTime": {
     "end_time": "2019-09-24T09:36:56.691093Z",
     "start_time": "2019-09-24T09:36:56.682393Z"
    },
    "collapsed": true
   },
   "outputs": [],
   "source": [
    "# 1. 再帰関数を用いた実装\n",
    "S = [ i for i in range(9) ]\n",
    "A = [\"up\" , \"right\", \"down\", \"left\"]\n",
    "\n",
    "# 報酬関数\n",
    "def reward(s, a, s_next):\n",
    "    if s_next == 8:\n",
    "        return 10.0\n",
    "    # [変更!!] s5についたら罰報酬 -5.0\n",
    "    if s_next == 5:\n",
    "        return -5.0\n",
    "    else:\n",
    "        return 0.0\n",
    "# 割引率\n",
    "gamma = 0.95\n",
    "\n",
    "# 行動番号を返す.\n",
    "def action_idx(a):\n",
    "    if a == \"up\":\n",
    "        action = 0\n",
    "    elif a == \"right\":\n",
    "        action = 1\n",
    "    elif a == \"down\":\n",
    "        action = 2\n",
    "    elif a == \"left\":\n",
    "        action = 3\n",
    "    return action\n",
    "# 次の場所を返す.\n",
    "def next_s(s, a):\n",
    "    if a == \"up\":\n",
    "        s_next = s - 3  # 上に移動するときは状態の数字が3小さくなる\n",
    "    elif a == \"right\":\n",
    "        s_next = s + 1  # 右に移動するときは状態の数字が1大きくなる\n",
    "    elif a == \"down\":\n",
    "        s_next = s + 3  # 下に移動するときは状態の数字が3大きくなる\n",
    "    elif a == \"left\":\n",
    "        s_next = s - 1  # 左に移動するときは状態の数字が1小さくなる\n",
    "\n",
    "    return s_next\n",
    "# 状態sで行動aを選択可能か(True / False)\n",
    "def valid_action(s, a):\n",
    "    if s == 0:\n",
    "        return ( (a == \"right\") or (a == \"down\"))\n",
    "    elif s == 1:\n",
    "        return (a == \"right\" or a == \"left\")\n",
    "    elif s == 2:\n",
    "        return (a == \"left\" or a == \"down\")\n",
    "    elif s == 3:\n",
    "        return (a != \"left\")\n",
    "    elif s == 4:\n",
    "        return (a == \"left\" or a == \"down\")\n",
    "    elif s == 5:\n",
    "        return (a == \"up\")\n",
    "    elif s == 6:\n",
    "        return (a == \"up\")\n",
    "    elif s == 7:\n",
    "        return (a == \"up\" or a == \"right\")\n",
    "    elif s == 8:\n",
    "        return False\n"
   ]
  },
  {
   "cell_type": "code",
   "execution_count": 52,
   "metadata": {
    "ExecuteTime": {
     "end_time": "2019-09-24T09:36:57.524370Z",
     "start_time": "2019-09-24T09:36:56.692862Z"
    }
   },
   "outputs": [
    {
     "data": {
      "image/png": "[encoded data removed]",
      "text/plain": [
       "<matplotlib.figure.Figure at 0x11b448080>"
      ]
     },
     "metadata": {},
     "output_type": "display_data"
    },
    {
     "data": {
      "image/png": "[encoded data removed]",
      "text/plain": [
       "<matplotlib.figure.Figure at 0x11b448e80>"
      ]
     },
     "metadata": {},
     "output_type": "display_data"
    }
   ],
   "source": [
    "# 必ず4手でゴールにたどり着ける方策 pi_star を使って状態価値を求める.\n",
    "# 連立1次方程式を直接法で解く.\n",
    "\n",
    "\n",
    "def simulataneous_equation(pi):\n",
    "    L = np.zeros((9, 9))\n",
    "    b = np.zeros(9)\n",
    "    for i, s in enumerate(S):\n",
    "        L[i, s] = 1.0\n",
    "        for a in A:\n",
    "            if valid_action(s, a):\n",
    "                action, s_next = action_idx(a), next_s(s, a)\n",
    "                r = reward(s, action, s_next)\n",
    "                if r != 0:\n",
    "                    L[i, s_next] = - gamma * pi[s, action]\n",
    "                    b[i] = pi[s, action] * r\n",
    "                else:\n",
    "                    L[i, s_next] = - gamma * pi[s, action]\n",
    "    return np.linalg.inv(L) @ b\n",
    "\n",
    "\n",
    "pi_0 = np.array([\n",
    "    [0.0, 0.5, 0.5, 0.0],\n",
    "    [0.0, 0.5, 0.0, 0.5],\n",
    "    [0.0, 0.0, 0.5, 0.5],\n",
    "    [1.0/3,  1.0/3, 1.0/3,  0.0],\n",
    "    [0.0, 0.0, 0.5, 0.5],\n",
    "    [1.0, 0.0, 0.0, 0.0],\n",
    "    [1.0, 0.0, 0.0, 0.0],\n",
    "    [0.5, 0.5, 0.0, 0.0]])\n",
    "\n",
    "pi_star = np.array([\n",
    "    [0.0, 0.0, 1.0, 0.0],\n",
    "    [0.0, 0.5, 0.0, 0.5],\n",
    "    [0.0, 0.0, 0.5, 0.5],\n",
    "    [0.0,  1.0, 0.0,  0.0],\n",
    "    [0.0, 0.0, 1.0, 0.0],\n",
    "    [1.0, 0.0, 0.0, 0.0],\n",
    "    [1.0, 0.0, 0.0, 0.0],\n",
    "    [0.0, 1.0, 0.0, 0.0]])\n",
    "\n",
    "# pi_0 と pi_star を比較する. 明らかに pi_star の方が pi_0 より良い方策であることがわかる.\n",
    "plot_V_pi(simulataneous_equation(pi_0))\n",
    "plot_V_pi(simulataneous_equation(pi_star))"
   ]
  },
  {
   "cell_type": "markdown",
   "metadata": {},
   "source": [
    "## 2. 最適ベルマン方程式\n",
    "最適な方策$ \\pi^* $は決定論的な関数となる.\n",
    "$$ \\pi^* (s_i, a) = \\begin{cases} 1.0 \\ ( a \\text{が最適な行動} ) \\\\ 0.0 \\ (\\text{otherwise}) \\end{cases}$$\n",
    "この時, ベルマン方程式は簡単に書き換えられて, \n",
    "$$ V^{\\pi^*} (s) = \\max_{a \\in A} \\sum_{s' \\in S} P(s, a, s') ( r( s, a, s' ) + \\gamma V^{\\pi^*}(s')) $$\n",
    "\n",
    "### ベルマンの最適性原理 \n",
    "\n",
    "> 「最適な方策は、初期状態と初期決定がどんなものであれ、その結果得られる次の状態に関して、以降の決定が必ず最適方策になっているという性質をもつ. (参照：　Bellman, 1957、Chap. III.3.)」\n",
    "\n",
    "最適な方策$\\pi^*$をとっている時, 全体で最適なエピソード列は, 部分エピソード列でも最適となっている.\n",
    "\n",
    "<img src=\"https://github.com/banboooo044/Deep-Reinforcement-Learning-Book/blob/master/pic/optimal_episode.png?raw=true\" width=500>\n",
    "\n",
    "これは動的計画法の基本原理でもある.\n",
    "\n",
    "(例.)\n",
    "* ダイクストラ法 : 最短な2頂点間のパスにおいて, その部分パスも最短な2頂点間のパスとなっている.\n",
    "* ナップザック問題 : 重さ $w$ 以下で価値最大となる詰め方において, まだナップザックの重さが $w' < w$ であるような途中までの詰め方を見ても重さ $w'$ 以下で価値最大となる最適な詰め方となっている."
   ]
  },
  {
   "cell_type": "markdown",
   "metadata": {},
   "source": [
    "## 3. 行動価値関数 $Q^{\\pi}(s,a)$\n",
    "方策 $\\pi$ を1つ決めた時の状態 $s$ における行動 $a$ の価値を表す関数 $ Q^{\\pi}(s, a) : S \\times A \\mapsto \\mathbb{R} $ を定義する.\n",
    "$$ \\begin{eqnarray}\n",
    "     Q^{\\pi} (s,a) &=& \\mathbb{E}[ \\sum_{n=t}^{\\infty} \\gamma^{n-t} r_n  ; s_t = s,\\ a_t = a ] \\\\\n",
    "     &=& \\sum_{s' \\in S} P(s, a, s') ( r(s, a, s') + \\gamma \\sum_{a' \\in A} \\pi(s', a') Q^{\\pi}(s', a') ) \\ ( \\text{ベルマン方程式} )\n",
    "\\end{eqnarray}$$\n",
    "\n",
    "状態 $s$ における行動 $a$ の行動価値とは : \n",
    "<center> 状態 $s$ から, <font color=\"red\">最初は行動 $a$ をとり, </font> その後方策$\\pi$に従って行動した時, 将来得ることのできる収益の期待値.</center>\n",
    "\n",
    "状態価値関数 $V^{\\pi}$ とはスタート位置が少し違うだけ !!\n",
    "\n",
    "## 4. $V^{\\pi}(s)$ と $Q^{\\pi}(s,a)$ の関係\n",
    "$$ \\begin{eqnarray}\n",
    "V^{\\pi}(s) &=& \\sum_{a \\in A} \\pi(s, a) Q^{\\pi}(s, a) \\\\\n",
    "Q^{\\pi}(s, a) &=& \\sum_{s' \\in S} P(s, a, s') ( r(s, a, s') + \\gamma V^{\\pi}(s') )\n",
    "\\end{eqnarray} $$\n",
    "\n",
    "<img src=\"https://qiita-user-contents.imgix.net/https%3A%2F%2Fqiita-image-store.s3.amazonaws.com%2F0%2F233208%2Fee52f72a-57cc-2d33-37c2-1c5ef4eaf973.jpeg?ixlib=rb-1.2.2&auto=compress%2Cformat&fit=max&w=1400&gif-q=60&s=c89dbafc0fce7181915ad44cc243fb99\" width = \"500\" >\n",
    "\n",
    "この関係から, $Q^{\\pi}$ から $V^{\\pi}$ は常に求まる. ( 1つ目の式 ) <br>\n",
    "$V^{\\pi}$ から $Q^{\\pi}$ は <font color=\"red\"> 遷移確率 $P$ がわかっている時には  </font> 求まる. ( 2つ目の式 )\n",
    "\n",
    "\n",
    "## 5. 方策の改善\n",
    "\n",
    "現在の方策 $\\pi$ から改善を行った方策 $\\pi'$ が, $V^{\\pi'}(s) \\geq V^{\\pi}(s) \\ ( \\forall s \\in S )$ を満たすようにしたい.\n",
    "\n",
    "### 5.1 方策改善定理\n",
    "状態 $s$ から新しい方策 $\\pi'$ に従って1度だけ行動し, その後は従来の方策$\\pi$に従って行動する時の行動価値関数の期待値を\n",
    "$Q^{\\pi}( s, \\pi'(s))$ と定義する. 式で定義を書くと, \n",
    "$$ Q^{\\pi}( s, \\pi'(s)) \\underset{def}{=} \\sum_{a \\in A} \\pi'(s, a) Q^{\\pi}(s, a) $$\n",
    "\n",
    "この時, 以下の式が成り立つ.\n",
    "$$ Q^{\\pi}( s, \\pi'(s)) \\geq V^{\\pi}(s) \\Rightarrow V^{\\pi'}(s) \\geq V^{\\pi}(s) \\ ( \\text{方策改善定理} )$$\n",
    "\n",
    "### 5.2 具体的な方策改善アルゴリズム.\n",
    "* greedy ( 貪欲 )\n",
    "$$ \\pi'(s, a) \\leftarrow \\begin{cases} 1 \\quad ( a = \\underset{a'\\in A}{\\operatorname{argmax}} Q^{\\pi}(s, a') ) \\\\ 0 \\quad ( otherwise ) \\end{cases} $$\n",
    "\n",
    "<center> 意味 : 状態 $s$ において行動価値関数が最大である行動を常に選択する. </center>\n",
    "\n",
    "( 証明 )\n",
    "$$ \\begin{eqnarray}\n",
    "    Q^{\\pi}(s, \\pi'(s)) &\\underset{def}{=}& \\sum_{a'\\in A} \\pi'(s, a) Q^{\\pi}(s, a) \\\\\n",
    "    &=& \\max_{ a \\in A } Q^{\\pi} (s, a) \\\\\n",
    "    &\\geq& \\sum_{a \\in A} \\pi(s, a) Q^{\\pi} (s, a) \\\\\n",
    "    &=& V^{\\pi} (s)\n",
    "\\end{eqnarray} $$\n",
    "<center> 方策改善定理より, $ V^{\\pi'}(s) \\geq V^{\\pi}(s) \\ ( \\forall s \\in S ) $ </center>\n",
    "\n",
    "* $\\epsilon$-greedy\n",
    "<center>\n",
    "$$ \\pi'(s, a) \\leftarrow \\begin{cases} 1 - (|A| - 1) \\epsilon \\quad &( a = \\underset{a'\\in A}{\\operatorname{argmax}} Q^{\\pi}(s, a') ) \\\\ \\epsilon & \\quad ( otherwise ) \\end{cases} $$\n",
    "$ \\epsilon $ は小さい値とする. <br>\n",
    "意味 : 状態 $s$ において行動価値関数が最大である行動を高い確率で選択する.\n",
    "</center>\n",
    "( 証明 )\n",
    "$$ \\begin{eqnarray}\n",
    "    Q^{\\pi}(s, \\pi'(s)) &\\underset{def}{=}& \\sum_{a'\\in A} \\pi'(s, a) Q^{\\pi}(s, a) \\\\\n",
    "    &=& ( \\epsilon \\sum_{a \\in A} Q^{\\pi}(s, a) ) + ( 1 - |A| \\epsilon ) \\max_{ a \\in A } Q^{\\pi} (s, a) \\\\\n",
    "    &\\geq&  ( \\epsilon \\sum_{a \\in A} Q^{\\pi}(s, a) ) + ( 1 - |A| \\epsilon ) \\sum_{ a \\in A}\\dfrac{ \\pi(s, a) - \\epsilon}{ (1 - |A| \\epsilon) } Q^{\\pi} (s, a) \\\\\n",
    "    &=& \\sum_{a \\in A} \\pi(s, a) Q^{\\pi} (s, a) \\\\\n",
    "    &=& V^{\\pi} (s)\n",
    "\\end{eqnarray} $$\n",
    "<center> 方策改善定理より, $ V^{\\pi'}(s) \\geq V^{\\pi}(s) \\ ( \\forall s \\in S ) $ </center>\n",
    "\n",
    "(2行目) $\\geq$ (3行目)の変形は, 加重平均と最大値の不等号関係を使っている.例えば, 3変数では以下が成立.\n",
    "$$ \\max( A, B, C ) \\geq \\dfrac{ pA + qB + rC}{p+q+r} $$\n",
    "\n",
    "greedy法と$\\epsilon$-greedy法の使い分けは後の 2_4_3 モンテカルロ法で記述した."
   ]
  },
  {
   "cell_type": "markdown",
   "metadata": {},
   "source": [
    "##  6. 方策反復法\n",
    "$ V^{\\pi}, Q^{\\pi}$ を求める方法(方策評価), $\\pi$の更新方法(方策改善) がわかったのでこれを交互に繰り返す.\n",
    "\n",
    "方策評価, 方策改善のアルゴリズムはどの組み合わせでも問題はないが, ここでは以下のようにする.\n",
    "<center> 方策評価 : 反復法, 方策改善 : greedy </center>\n",
    "\n",
    "<img src=\"https://encrypted-tbn0.gstatic.com/images?q=tbn%3AANd9GcQah27BjItaK73oFUu063eyvgFd7HBhfMEBqOSkBo6a1imWX2Cb\" width=500>\n"
   ]
  },
  {
   "cell_type": "code",
   "execution_count": 53,
   "metadata": {
    "ExecuteTime": {
     "end_time": "2019-09-24T09:36:57.568471Z",
     "start_time": "2019-09-24T09:36:57.532828Z"
    },
    "collapsed": true
   },
   "outputs": [],
   "source": [
    "# 2_4_1で作った反復法によってVを求める関数.\n",
    "def iteration_solve(V, pi):\n",
    "    stop_epsilon = 10**-4\n",
    "    while True:\n",
    "        V_new = np.zeros_like(V)\n",
    "        for s in S:\n",
    "            for a in A:\n",
    "                if valid_action(s, a):\n",
    "                    action, s_next = action_idx(a), next_s(s, a)\n",
    "                    V_new[s] += pi[s, action] * (reward(s, action, s_next) + gamma*V[s_next])\n",
    "        if np.sum(np.abs(V_new - V)) < stop_epsilon:\n",
    "            break\n",
    "        else:\n",
    "            V = V_new\n",
    "    return V"
   ]
  },
  {
   "cell_type": "code",
   "execution_count": 58,
   "metadata": {
    "ExecuteTime": {
     "end_time": "2019-09-24T09:45:28.275779Z",
     "start_time": "2019-09-24T09:45:28.265522Z"
    },
    "collapsed": true
   },
   "outputs": [],
   "source": [
    "def Policy_iteration():\n",
    "    # Initialization\n",
    "    V = np.random.rand(len(S))\n",
    "    pi = np.array([\n",
    "                   [0.0, 0.5, 0.5, 0.0],\n",
    "                   [0.0, 0.5, 0.0, 0.5],\n",
    "                   [0.0, 0.0, 0.5, 0.5],\n",
    "                   [1.0/3,  1.0/3, 1.0/3,  0.0],\n",
    "                   [0.0, 0.0, 0.5, 0.5],\n",
    "                   [1.0, 0.0, 0.0, 0.0],\n",
    "                   [1.0, 0.0, 0.0, 0.0],\n",
    "                   [0.5, 0.5, 0.0, 0.0]])\n",
    "    while True:\n",
    "        # 方策評価(Policy Evaluation)\n",
    "        V = iteration_solve(V, pi)\n",
    "        # 方策改善(Policy Improvement)\n",
    "        Q = np.array( [ [ sum([ reward(s, action_idx(a), next_s(s, a)) + gamma*V[next_s(s, a)] ]) if valid_action(s, a) else -float('inf') for a in A  ] for s in S[:-1] ])\n",
    "        new_pi_ = np.argmax(Q, axis=1)\n",
    "        new_pi = np.zeros((len(S)-1, len(A)))\n",
    "        for s in S[:-1]:\n",
    "            new_pi[s, new_pi_[s]] = 1.0\n",
    "        if (pi == new_pi).all():\n",
    "            break\n",
    "        else:\n",
    "            pi = new_pi\n",
    "    return pi, V"
   ]
  },
  {
   "cell_type": "code",
   "execution_count": 55,
   "metadata": {
    "ExecuteTime": {
     "end_time": "2019-09-24T09:36:58.443536Z",
     "start_time": "2019-09-24T09:36:57.655096Z"
    }
   },
   "outputs": [
    {
     "name": "stdout",
     "output_type": "stream",
     "text": [
      "[[ 0.  0.  1.  0.]\n",
      " [ 0.  0.  0.  1.]\n",
      " [ 0.  0.  0.  1.]\n",
      " [ 0.  1.  0.  0.]\n",
      " [ 0.  0.  1.  0.]\n",
      " [ 1.  0.  0.  0.]\n",
      " [ 1.  0.  0.  0.]\n",
      " [ 0.  1.  0.  0.]]\n"
     ]
    },
    {
     "data": {
      "image/png": "[encoded data removed]",
      "text/plain": [
       "<matplotlib.figure.Figure at 0x117a6e5c0>"
      ]
     },
     "metadata": {},
     "output_type": "display_data"
    }
   ],
   "source": [
    "def plot_V_pi(V_pi):\n",
    "    # 初期位置での迷路の様子\n",
    "    # 図を描く大きさと、図の変数名を宣言\n",
    "    fig = plt.figure(figsize=(5, 5))\n",
    "    ax = plt.gca()\n",
    "\n",
    "    # 赤い壁を描く\n",
    "    plt.plot([1, 1], [0, 1], color='red', linewidth=2)\n",
    "    plt.plot([1, 2], [2, 2], color='red', linewidth=2)\n",
    "    plt.plot([2, 2], [2, 1], color='red', linewidth=2)\n",
    "    plt.plot([2, 3], [1, 1], color='red', linewidth=2)\n",
    "\n",
    "    # 状態を示す文字S0～S8を描く\n",
    "    xy = []\n",
    "    i = 0\n",
    "    for y in [2.5, 1.5, 0.5]:\n",
    "        for x in [0.5, 1.5, 2.5]:\n",
    "            plt.text(x,y , \"S\"+str(i) , size=14, ha='center')\n",
    "            plt.text(x, y-0.2, str(round(V_pi[i], 3)), ha='center')\n",
    "            i += 1\n",
    "        \n",
    "    # 描画範囲の設定と目盛りを消す設定\n",
    "    ax.set_xlim(0, 3)\n",
    "    ax.set_ylim(0, 3)\n",
    "    plt.tick_params(axis='both', which='both', bottom='off', top='off',\n",
    "                labelbottom='off', right='off', left='off', labelleft='off')\n",
    "\n",
    "# 学習がうまくいっている.\n",
    "pi, V = Policy_iteration()\n",
    "print(pi)\n",
    "plot_V_pi(V)"
   ]
  },
  {
   "cell_type": "markdown",
   "metadata": {},
   "source": [
    "## 7. 価値反復法\n",
    "方策反復法の方策評価ステップでは, $V^{\\pi}$ が収束するまでループを回した.\n",
    "\n",
    "そんなに厳密に $V^{\\pi}$ を求めなくてもいいんじゃね ? &rarr; 方策評価と方策改善を交互に1回ずつ行う.\n",
    "\n",
    "方策評価 : 反復法, 方策改善 : greedy とアルゴリズムを選択した時, \n",
    "\n",
    "$$ \\begin{eqnarray}\n",
    "    \\pi'(s, a) &\\leftarrow& \\begin{cases} 1 \\quad ( a = \\underset{a'\\in A}{\\operatorname{argmax}} Q^{\\pi}(s, a') ) \\\\ 0 \\quad ( otherwise ) \\end{cases} \\\\\n",
    "    V^{\\pi}_{k+1}(s) &\\leftarrow& \\sum_{a \\in A} \\pi'(s, a) Q^{\\pi}(s, a) = \\sum_{a \\in A} \\pi'(s, a) \\sum_{s' \\in S} P(s, a, s') ( r( s, a, s' ) + \\gamma V^{\\pi}_{k} (s'))\n",
    "\\end{eqnarray} $$\n",
    "\n",
    "これら2つの式を1つにまとめることができて, \n",
    "$$ V^{\\pi}_{k+1}(s) \\leftarrow \\max_{a \\in A} Q^{\\pi}(s, a) = \\max_{a \\in A} \\sum_{s' \\in S} P(s, a, s') ( r( s, a, s' ) + \\gamma V^{\\pi}_{k} (s')) $$\n",
    "\n",
    "ちなみに, この式は最適ベルマン方程式と同じ形になっている.\n",
    "\n",
    "<img src=\"https://yoheitaonishi.com/wp-content/uploads/2018/10/%E5%9B%B34.5.png\" width=500>\n"
   ]
  },
  {
   "cell_type": "code",
   "execution_count": 56,
   "metadata": {
    "ExecuteTime": {
     "end_time": "2019-09-24T09:36:58.469932Z",
     "start_time": "2019-09-24T09:36:58.456841Z"
    },
    "collapsed": true
   },
   "outputs": [],
   "source": [
    "def Value_iteration():\n",
    "    # Initialization\n",
    "    V = np.random.rand(len(S))\n",
    "    stop_epsilon = 10**-4\n",
    "    while True:\n",
    "        V_new = np.array( [ np.max([ reward(s, a, next_s(s, a) ) + gamma*V[next_s(s, a)] for a in A if valid_action(s, a)]) if s != 8 else 0.0 for s in S])\n",
    "        if np.sum(np.abs(V_new - V)) < stop_epsilon:\n",
    "            break\n",
    "        else:\n",
    "            V = V_new\n",
    "    Q = np.array( [ [ sum([ reward(s, action_idx(a), next_s(s, a)) + gamma*V[next_s(s, a)] ]) if valid_action(s, a) else -float('inf') for a in A  ] for s in S[:-1] ])\n",
    "    pi_ = np.argmax(Q, axis=1)\n",
    "    pi = np.zeros((len(S)-1, len(A)))\n",
    "    for s in S[:-1]:\n",
    "        pi[s, pi_[s]] = 1.0\n",
    "    return pi, V"
   ]
  },
  {
   "cell_type": "code",
   "execution_count": 57,
   "metadata": {
    "ExecuteTime": {
     "end_time": "2019-09-24T09:36:59.506785Z",
     "start_time": "2019-09-24T09:36:58.481135Z"
    }
   },
   "outputs": [
    {
     "name": "stdout",
     "output_type": "stream",
     "text": [
      "[[ 0.  0.  1.  0.]\n",
      " [ 0.  0.  0.  1.]\n",
      " [ 0.  0.  0.  1.]\n",
      " [ 0.  1.  0.  0.]\n",
      " [ 0.  0.  1.  0.]\n",
      " [ 1.  0.  0.  0.]\n",
      " [ 1.  0.  0.  0.]\n",
      " [ 0.  1.  0.  0.]]\n"
     ]
    },
    {
     "data": {
      "image/png": "[encoded data removed]",
      "text/plain": [
       "<matplotlib.figure.Figure at 0x117a71ef0>"
      ]
     },
     "metadata": {},
     "output_type": "display_data"
    }
   ],
   "source": [
    "pi, V = Value_iteration()\n",
    "print(pi)\n",
    "plot_V_pi(V)"
   ]
  },
  {
   "cell_type": "markdown",
   "metadata": {},
   "source": [
    "## 8. 一般化方策反復\n",
    "\n",
    "> 方策評価と方策改善の2つの過程の相互作用を一般的概念として、一般化方策反復（generalized policy iteration; GPI）と呼ぶ.\n",
    "\n",
    "方策評価と方策改善を交互に行うことで, だんだん最適な方策 $\\pi^*$ と $\\pi^*$ における真の状態価値関数 $V^{\\pi^*}$ が求まるイメージ図.\n",
    "\n",
    "<img src=\"https://yoheitaonishi.com/wp-content/uploads/2018/10/%E8%A9%95%E4%BE%A1%E9%81%8E%E7%A8%8B%E3%81%A8%E6%94%B9%E5%96%84%E9%81%8E%E7%A8%8B.png\" width=500 >\n",
    "\n"
   ]
  },
  {
   "cell_type": "code",
   "execution_count": null,
   "metadata": {
    "collapsed": true
   },
   "outputs": [],
   "source": []
  }
 ],
 "metadata": {
  "kernelspec": {
   "display_name": "Python 3",
   "language": "python",
   "name": "python3"
  },
  "language_info": {
   "codemirror_mode": {
    "name": "ipython",
    "version": 3
   },
   "file_extension": ".py",
   "mimetype": "text/x-python",
   "name": "python",
   "nbconvert_exporter": "python",
   "pygments_lexer": "ipython3",
   "version": "3.7.4"
  },
  "varInspector": {
   "cols": {
    "lenName": 16,
    "lenType": 16,
    "lenVar": 40
   },
   "kernels_config": {
    "python": {
     "delete_cmd_postfix": "",
     "delete_cmd_prefix": "del ",
     "library": "var_list.py",
     "varRefreshCmd": "print(var_dic_list())"
    },
    "r": {
     "delete_cmd_postfix": ") ",
     "delete_cmd_prefix": "rm(",
     "library": "var_list.r",
     "varRefreshCmd": "cat(var_dic_list()) "
    }
   },
   "types_to_exclude": [
    "module",
    "function",
    "builtin_function_or_method",
    "instance",
    "_Feature"
   ],
   "window_display": false
  }
 },
 "nbformat": 4,
 "nbformat_minor": 2
}
